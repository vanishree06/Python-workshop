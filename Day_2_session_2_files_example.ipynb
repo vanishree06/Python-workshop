{
  "nbformat": 4,
  "nbformat_minor": 0,
  "metadata": {
    "colab": {
      "name": "Day 2 session 2 files example",
      "provenance": [],
      "collapsed_sections": [],
      "authorship_tag": "ABX9TyOcWZyjkzN/kkBFdGAqy94h",
      "include_colab_link": true
    },
    "kernelspec": {
      "name": "python3",
      "display_name": "Python 3"
    }
  },
  "cells": [
    {
      "cell_type": "markdown",
      "metadata": {
        "id": "view-in-github",
        "colab_type": "text"
      },
      "source": [
        "<a href=\"https://colab.research.google.com/github/vanishree06/Python-workshop/blob/master/Day_2_session_2_files_example.ipynb\" target=\"_parent\"><img src=\"https://colab.research.google.com/assets/colab-badge.svg\" alt=\"Open In Colab\"/></a>"
      ]
    },
    {
      "cell_type": "markdown",
      "metadata": {
        "id": "-PGWja_Kr2LF",
        "colab_type": "text"
      },
      "source": [
        "# Python Program to count the number of lines in a text file."
      ]
    },
    {
      "cell_type": "code",
      "metadata": {
        "id": "dj-1PkE0g_Nr",
        "colab_type": "code",
        "colab": {}
      },
      "source": [
        "from google.colab import drive\n",
        "drive.mount('/content/drive')\n",
        "#Python Program to count the number of lines in a text file. \n",
        "file = '/content/drive/My Drive/doc.txt'\n",
        "num_lines = 0\n",
        "with open(file, 'r') as f:\n",
        "  for line in f:\t\n",
        "    num_lines += 1\n",
        "print(\"Number of lines:\")\n",
        "print(num_lines)"
      ],
      "execution_count": null,
      "outputs": []
    },
    {
      "cell_type": "markdown",
      "metadata": {
        "id": "_9HnLXWwp4mm",
        "colab_type": "text"
      },
      "source": [
        "#Python Program to count the number of words in a text file."
      ]
    },
    {
      "cell_type": "code",
      "metadata": {
        "id": "FeKJ8XwlqGMa",
        "colab_type": "code",
        "colab": {}
      },
      "source": [
        "#Python Program to count the number of words in a text file.\n",
        "file = 'drive/My Drive/doc.txt'\n",
        "num_words = 0\n",
        "with open(file, 'r') as f:\n",
        "  for line in f:\n",
        "    words = line.split()\n",
        "    print(words)\n",
        "    num_words += len(words)\n",
        "    print(\"Number of words: \",num_words)"
      ],
      "execution_count": null,
      "outputs": []
    },
    {
      "cell_type": "markdown",
      "metadata": {
        "id": "SjY3NqLrsPno",
        "colab_type": "text"
      },
      "source": [
        "#Python Program to count the occurrences of a word in a text file."
      ]
    },
    {
      "cell_type": "code",
      "metadata": {
        "id": "CBZ8zvQOqJfl",
        "colab_type": "code",
        "colab": {}
      },
      "source": [
        "fname = 'drive/My Drive/doc.txt'\n",
        "word=input(\"Enter word to be searched:\")\n",
        "k = 0\n",
        "\n",
        "with open(fname, 'r') as f:\n",
        "  for line in f:\n",
        "    words = line.split()\n",
        "    for i in words:\n",
        "      if(i==word):\n",
        "        k=k+1\n",
        "  print(\"Occurrences of the word:\",k)"
      ],
      "execution_count": null,
      "outputs": []
    },
    {
      "cell_type": "markdown",
      "metadata": {
        "id": "yscPF00PsoLR",
        "colab_type": "text"
      },
      "source": [
        "#Python Program to read the contents of the file in reverse order."
      ]
    },
    {
      "cell_type": "code",
      "metadata": {
        "id": "Sw7sDnxBqRQm",
        "colab_type": "code",
        "colab": {}
      },
      "source": [
        "file = 'drive/My Drive/doc.txt'\n",
        "with open (file,'r') as f:\n",
        "  for line in f:\n",
        "    l=line.split()\n",
        "    l.reverse() \n",
        "    st= \" \".join(l)\n",
        "    print (st)"
      ],
      "execution_count": null,
      "outputs": []
    },
    {
      "cell_type": "markdown",
      "metadata": {
        "id": "uihb7XuZsw_7",
        "colab_type": "text"
      },
      "source": [
        "#Python Program to copy the contents of one file into another."
      ]
    },
    {
      "cell_type": "code",
      "metadata": {
        "id": "_uuub_ebsyeD",
        "colab_type": "code",
        "colab": {}
      },
      "source": [
        "file1 = &#39;drive/My Drive/sample1.txt&#39;\n",
        "file2 = &#39;drive/My Drive/sample2.txt&#39;\n",
        "with open(file1,&#39;r&#39;) as f:\n",
        "with open(file2, &quot;w&quot;) as f1:\n",
        "for line in f:\n",
        "f1.write(line)"
      ],
      "execution_count": null,
      "outputs": []
    }
  ]
}