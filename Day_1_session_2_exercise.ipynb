{
  "nbformat": 4,
  "nbformat_minor": 0,
  "metadata": {
    "colab": {
      "name": "Day 1 session 2 exercise",
      "provenance": [],
      "collapsed_sections": [],
      "authorship_tag": "ABX9TyP5F1Up8yJYgEdPwU3APThE",
      "include_colab_link": true
    },
    "kernelspec": {
      "name": "python3",
      "display_name": "Python 3"
    }
  },
  "cells": [
    {
      "cell_type": "markdown",
      "metadata": {
        "id": "view-in-github",
        "colab_type": "text"
      },
      "source": [
        "<a href=\"https://colab.research.google.com/github/vanishree06/Python-workshop/blob/master/Day_1_session_2_exercise.ipynb\" target=\"_parent\"><img src=\"https://colab.research.google.com/assets/colab-badge.svg\" alt=\"Open In Colab\"/></a>"
      ]
    },
    {
      "cell_type": "markdown",
      "metadata": {
        "id": "KcWnbReAenNR",
        "colab_type": "text"
      },
      "source": [
        "#Enter number 4"
      ]
    },
    {
      "cell_type": "code",
      "metadata": {
        "id": "woQN2to6er_G",
        "colab_type": "code",
        "colab": {
          "base_uri": "https://localhost:8080/",
          "height": 101
        },
        "outputId": "80472dd4-e3f3-4958-d3a9-0648b37dec55"
      },
      "source": [
        "rows = int (input(\" enter number \"))\n",
        "for j in range(1,rows+1):\n",
        "  print(\" * \" * j)"
      ],
      "execution_count": null,
      "outputs": [
        {
          "output_type": "stream",
          "text": [
            " enter number 4\n",
            " * \n",
            " *  * \n",
            " *  *  * \n",
            " *  *  *  * \n"
          ],
          "name": "stdout"
        }
      ]
    },
    {
      "cell_type": "markdown",
      "metadata": {
        "id": "xzN0vS6rg8QO",
        "colab_type": "text"
      },
      "source": [
        "#Find the no of words and character in string"
      ]
    },
    {
      "cell_type": "code",
      "metadata": {
        "id": "raEAu3R7hHGw",
        "colab_type": "code",
        "colab": {
          "base_uri": "https://localhost:8080/",
          "height": 34
        },
        "outputId": "d40628da-ca2f-4868-946c-5aa5dbd6b6b9"
      },
      "source": [
        "# Python3 program to count words \n",
        "# in a given string \n",
        "OUT = 0\n",
        "IN = 1\n",
        "\n",
        "# Returns number of words in string \n",
        "def countWords(string): \n",
        "\tstate = OUT \n",
        "\twc = 0\n",
        "\n",
        "\t# Scan all characters one by one \n",
        "\tfor i in range(len(string)): \n",
        "\n",
        "\t\t# If next character is a separator, \n",
        "\t\t# set the state as OUT \n",
        "\t\tif (string[i] == ' ' or string[i] == '\\n' or\n",
        "\t\t\tstring[i] == '\\t'): \n",
        "\t\t\tstate = OUT \n",
        "\n",
        "\t\t# If next character is not a word \n",
        "\t\t# separator and state is OUT, then \n",
        "\t\t# set the state as IN and increment \n",
        "\t\t# word count \n",
        "\t\telif state == OUT: \n",
        "\t\t\tstate = IN \n",
        "\t\t\twc += 1\n",
        "\n",
        "\t# Return the number of words \n",
        "\treturn wc \n",
        "\n",
        "# Driver Code \n",
        "string = \"One two\t\t three\\n four\\tfive \"\n",
        "print(\"No. of words : \" + str(countWords(string))) \n",
        " \n"
      ],
      "execution_count": null,
      "outputs": [
        {
          "output_type": "stream",
          "text": [
            "No. of words : 5\n"
          ],
          "name": "stdout"
        }
      ]
    },
    {
      "cell_type": "markdown",
      "metadata": {
        "id": "xHYyNETQhn7-",
        "colab_type": "text"
      },
      "source": [
        "#Find the no of occurence of a word in a string"
      ]
    },
    {
      "cell_type": "code",
      "metadata": {
        "id": "jqKwkmHZiLZX",
        "colab_type": "code",
        "colab": {
          "base_uri": "https://localhost:8080/",
          "height": 34
        },
        "outputId": "7f58907c-4840-4ba8-c08b-7f31e72c35fa"
      },
      "source": [
        "# Python program to count the number of occurrence \n",
        "# of a word in the given string given string \n",
        "\n",
        "def countOccurences(str, word): \n",
        "\t\n",
        "\t# split the string by spaces in a \n",
        "\ta = str.split(\" \") \n",
        "\n",
        "\t# search for pattern in a \n",
        "\tcount = 0\n",
        "\tfor i in range(0, len(a)): \n",
        "\t\t\n",
        "\t\t# if match found increase count \n",
        "\t\tif (word == a[i]): \n",
        "\t\t count = count + 1\n",
        "\t\t\t\n",
        "\treturn count\t \n",
        "\n",
        "# Driver code \n",
        "str =\"GeeksforGeeks A computer science portal for geeks \"\n",
        "word =\"portal\"\n",
        "print(countOccurences(str, word)) \n"
      ],
      "execution_count": null,
      "outputs": [
        {
          "output_type": "stream",
          "text": [
            "1\n"
          ],
          "name": "stdout"
        }
      ]
    },
    {
      "cell_type": "markdown",
      "metadata": {
        "id": "EZ2c27IHiVj6",
        "colab_type": "text"
      },
      "source": [
        "#Find the length of a string without using len function"
      ]
    },
    {
      "cell_type": "code",
      "metadata": {
        "id": "Vyw33YIzi0tX",
        "colab_type": "code",
        "colab": {
          "base_uri": "https://localhost:8080/",
          "height": 34
        },
        "outputId": "0b572874-e2e1-400b-afaa-de12ba68d698"
      },
      "source": [
        "# Function which return length of string \n",
        "def findLength(string): \n",
        "\n",
        "\t# Initialize count to zero \n",
        "\tcount = 0\n",
        "\n",
        "\t# Counting character in a string \n",
        "\tfor i in string: \n",
        "\t\tcount+= 1\n",
        "\t# Returning count \n",
        "\treturn count \n",
        "\n",
        "# Driver code \n",
        "string = \"AIETMOODBIRDRI\"\n",
        "print(findLength(string)) \n",
        "\n",
        "\n"
      ],
      "execution_count": null,
      "outputs": [
        {
          "output_type": "stream",
          "text": [
            "14\n"
          ],
          "name": "stdout"
        }
      ]
    },
    {
      "cell_type": "markdown",
      "metadata": {
        "id": "lz5gf6MYi4mC",
        "colab_type": "text"
      },
      "source": [
        "# Enter number 4"
      ]
    },
    {
      "cell_type": "code",
      "metadata": {
        "id": "AnCvlOpc5k4C",
        "colab_type": "code",
        "colab": {
          "base_uri": "https://localhost:8080/",
          "height": 151
        },
        "outputId": "8d835460-a70f-49ad-a7ef-8a94f3b7fd73"
      },
      "source": [
        "rows=int(input(\"Enter number\"))\n",
        "for j in range(0,rows-1):\n",
        "  print(\"1\",\"2\",\"3\",\"4\")\n",
        "  print(\"2\",\"3\",\"4\")\n",
        "  print(\"3\",\"4\")\n",
        "  print(\"4\")\n",
        "  print(\"3\",\"4\")\n",
        "  print(\"2\",\"3\",\"4\")\n",
        "  print(\"1\",\"2\",\"3\",\"4\")"
      ],
      "execution_count": 145,
      "outputs": [
        {
          "output_type": "stream",
          "text": [
            "Enter number2\n",
            "1 2 3 4\n",
            "2 3 4\n",
            "3 4\n",
            "4\n",
            "3 4\n",
            "2 3 4\n",
            "1 2 3 4\n"
          ],
          "name": "stdout"
        }
      ]
    },
    {
      "cell_type": "markdown",
      "metadata": {
        "id": "SEbNjwAeOFWh",
        "colab_type": "text"
      },
      "source": [
        "#enter number 5"
      ]
    },
    {
      "cell_type": "code",
      "metadata": {
        "id": "hpoQLvHmOSqR",
        "colab_type": "code",
        "colab": {
          "base_uri": "https://localhost:8080/",
          "height": 118
        },
        "outputId": "0c830b66-59b2-457f-86cf-f22dec77bf6e"
      },
      "source": [
        "rows =5\n",
        "for  row in range(rows+1,0,-1):\n",
        "    for column in range(row,6):\n",
        "        print(column,end='')\n",
        "    print('\\r')\n"
      ],
      "execution_count": 232,
      "outputs": [
        {
          "output_type": "stream",
          "text": [
            "\r\n",
            "5\r\n",
            "45\r\n",
            "345\r\n",
            "2345\r\n",
            "12345\r\n"
          ],
          "name": "stdout"
        }
      ]
    },
    {
      "cell_type": "markdown",
      "metadata": {
        "id": "sKZM2QkCEFo1",
        "colab_type": "text"
      },
      "source": [
        "#enter number 5"
      ]
    },
    {
      "cell_type": "code",
      "metadata": {
        "id": "FJuqcy3uEKKV",
        "colab_type": "code",
        "colab": {
          "base_uri": "https://localhost:8080/",
          "height": 101
        },
        "outputId": "2c16ac3a-8f1d-4995-b283-e0c52745643f"
      },
      "source": [
        "rows = 5\n",
        "for row in range(rows,0,-1):\n",
        "    for column in range(row, 0, -1):\n",
        "        print(column, end=' ')\n",
        "    print(\"\")\n",
        "\n"
      ],
      "execution_count": 161,
      "outputs": [
        {
          "output_type": "stream",
          "text": [
            "5 4 3 2 1 \n",
            "4 3 2 1 \n",
            "3 2 1 \n",
            "2 1 \n",
            "1 \n"
          ],
          "name": "stdout"
        }
      ]
    },
    {
      "cell_type": "markdown",
      "metadata": {
        "id": "zoV6KJuYohVU",
        "colab_type": "text"
      },
      "source": [
        "# program to print a tringle"
      ]
    },
    {
      "cell_type": "code",
      "metadata": {
        "id": "K0FPPcXWoqTt",
        "colab_type": "code",
        "colab": {}
      },
      "source": [
        "rows = 5\n",
        "for row in range(1,rows+1):\n",
        "    for column in range(row,row+1):\n",
        "          print(column, end=' ')\n",
        "    print(\"\")"
      ],
      "execution_count": null,
      "outputs": []
    }
  ]
}