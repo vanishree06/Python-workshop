{
  "nbformat": 4,
  "nbformat_minor": 0,
  "metadata": {
    "colab": {
      "name": "Day 1 session 2 work example",
      "provenance": [],
      "collapsed_sections": [],
      "authorship_tag": "ABX9TyPIZXJ3sJBrlfysADZ5pkWy",
      "include_colab_link": true
    },
    "kernelspec": {
      "name": "python3",
      "display_name": "Python 3"
    }
  },
  "cells": [
    {
      "cell_type": "markdown",
      "metadata": {
        "id": "view-in-github",
        "colab_type": "text"
      },
      "source": [
        "<a href=\"https://colab.research.google.com/github/vanishree06/Python-workshop/blob/master/Day_1_session_2_work_example.ipynb\" target=\"_parent\"><img src=\"https://colab.research.google.com/assets/colab-badge.svg\" alt=\"Open In Colab\"/></a>"
      ]
    },
    {
      "cell_type": "code",
      "metadata": {
        "id": "08hVp38VPNaT",
        "colab_type": "code",
        "colab": {}
      },
      "source": [
        ""
      ],
      "execution_count": null,
      "outputs": []
    },
    {
      "cell_type": "markdown",
      "metadata": {
        "id": "CEoyBtyIPQC7",
        "colab_type": "text"
      },
      "source": [
        "#Find the factorial of a number using loop"
      ]
    },
    {
      "cell_type": "code",
      "metadata": {
        "id": "Tzuz_k5rPZRR",
        "colab_type": "code",
        "colab": {
          "base_uri": "https://localhost:8080/",
          "height": 67
        },
        "outputId": "cd3ee7b2-26ed-43d0-b097-2892965af044"
      },
      "source": [
        "#Python Program to find the factorial of a number using loop.\n",
        "n=int(input(\"Enter number:\"))\n",
        "fact=1\n",
        "while(n>0):\n",
        " fact=fact*n\n",
        " n=n-1\n",
        "print(\"Factorial of the number is:\")\n",
        "print(fact)"
      ],
      "execution_count": 2,
      "outputs": [
        {
          "output_type": "stream",
          "text": [
            "Enter number:19\n",
            "Factorial of the number is:\n",
            "121645100408832000\n"
          ],
          "name": "stdout"
        }
      ]
    },
    {
      "cell_type": "markdown",
      "metadata": {
        "id": "7hYDFvu2P6Hi",
        "colab_type": "text"
      },
      "source": [
        "#Reverse a number using loop"
      ]
    },
    {
      "cell_type": "code",
      "metadata": {
        "id": "n7f_MOEVQAvs",
        "colab_type": "code",
        "colab": {
          "base_uri": "https://localhost:8080/",
          "height": 67
        },
        "outputId": "b82a9364-7e76-4307-b1cb-3c80d603a89a"
      },
      "source": [
        "#Python Program to reverse a number using loop\n",
        "r=0\n",
        "n=int(input(\"Enter a number:\"))\n",
        "while(n>0):\n",
        " dig=n%10\n",
        " r=r*10+dig\n",
        " n=n//10\n",
        "print(\"The reversed no is:\")\n",
        "print(r)"
      ],
      "execution_count": 5,
      "outputs": [
        {
          "output_type": "stream",
          "text": [
            "Enter a number:68\n",
            "The reversed no is:\n",
            "86\n"
          ],
          "name": "stdout"
        }
      ]
    },
    {
      "cell_type": "markdown",
      "metadata": {
        "id": "ZfP8vLJiQtAH",
        "colab_type": "text"
      },
      "source": [
        "#Construct the pattern using nested for loop n=5"
      ]
    },
    {
      "cell_type": "code",
      "metadata": {
        "id": "4Nsr_LvgRNeL",
        "colab_type": "code",
        "colab": {
          "base_uri": "https://localhost:8080/",
          "height": 185
        },
        "outputId": "6ac7d62f-ccd7-41bc-e484-9567bd72611e"
      },
      "source": [
        "\n",
        "n=5;\n",
        "for i in range(n):\n",
        " for j in range(i):\n",
        "   print ('*', end=\" \")\n",
        " print(' ')\n",
        "for i in range(n,0,-1):\n",
        " for j in range(i):\n",
        "   print('*', end=\"\")\n",
        " print(' ')"
      ],
      "execution_count": 16,
      "outputs": [
        {
          "output_type": "stream",
          "text": [
            " \n",
            "*  \n",
            "* *  \n",
            "* * *  \n",
            "* * * *  \n",
            "***** \n",
            "**** \n",
            "*** \n",
            "** \n",
            "* \n"
          ],
          "name": "stdout"
        }
      ]
    },
    {
      "cell_type": "markdown",
      "metadata": {
        "id": "ZUWjS--KS_14",
        "colab_type": "text"
      },
      "source": [
        "#Replace all occurence of 'a' with '$' in a string"
      ]
    },
    {
      "cell_type": "code",
      "metadata": {
        "id": "8xW1eEJ9TOvZ",
        "colab_type": "code",
        "colab": {
          "base_uri": "https://localhost:8080/",
          "height": 67
        },
        "outputId": "1f6da5b0-b57a-4ec5-d745-ed30166049f8"
      },
      "source": [
        "#Python Program to replace all occurrences of ‘a’ with ‘$’ in a string.\n",
        "string=input(\"Enter string:\")\n",
        "string=string.replace('a','$')\n",
        "string=string.replace('A','$')\n",
        "print(\"Modified string:\")\n",
        "print(string)"
      ],
      "execution_count": 17,
      "outputs": [
        {
          "output_type": "stream",
          "text": [
            "Enter string:Alvas institute\n",
            "Modified string:\n",
            "$lv$s institute\n"
          ],
          "name": "stdout"
        }
      ]
    },
    {
      "cell_type": "markdown",
      "metadata": {
        "id": "BdkNRrN_T-0e",
        "colab_type": "text"
      },
      "source": [
        "#Remove the nth index character from a non empty string"
      ]
    },
    {
      "cell_type": "code",
      "metadata": {
        "id": "2pMSv6iBUM0S",
        "colab_type": "code",
        "colab": {
          "base_uri": "https://localhost:8080/",
          "height": 84
        },
        "outputId": "d54d6292-9d4b-4d68-d7ab-3e811b2b2c0d"
      },
      "source": [
        "#Python Program to remove the nth index character from a non-empty string.\n",
        "def remove(string, n):\n",
        "   first = string[:n]\n",
        "   last = string[n+1:]\n",
        "   return first + last\n",
        "string=input(\"Enter the sring:\")\n",
        "n=int(input(\"Enter the index of the character to remove:\"))\n",
        "print(\"Modified string:\")\n",
        "print(remove(string, n))"
      ],
      "execution_count": 20,
      "outputs": [
        {
          "output_type": "stream",
          "text": [
            "Enter the sring:A 2 girls are beautiful\n",
            "Enter the index of the character to remove:2\n",
            "Modified string:\n",
            "A  girls are beautiful\n"
          ],
          "name": "stdout"
        }
      ]
    },
    {
      "cell_type": "markdown",
      "metadata": {
        "id": "jO-ZIytrVFGY",
        "colab_type": "text"
      },
      "source": [
        "#Detect if two strings are anagrams"
      ]
    },
    {
      "cell_type": "code",
      "metadata": {
        "id": "31oC_pD9VRqn",
        "colab_type": "code",
        "colab": {
          "base_uri": "https://localhost:8080/",
          "height": 67
        },
        "outputId": "204a96fb-5884-4790-8913-78add781061d"
      },
      "source": [
        "#Python Program to detect if two strings are anagrams.\n",
        "s1=input(\"Enter first string:\")\n",
        "s2=input(\"Enter second string:\")\n",
        "if(sorted(s1)==sorted(s2)):\n",
        "  print(\"The strings are anagrams.\")\n",
        "else:\n",
        "  print(\"The strings aren&#39;t anagrams.\")"
      ],
      "execution_count": 22,
      "outputs": [
        {
          "output_type": "stream",
          "text": [
            "Enter first string:Ram ate an apple\n",
            "Enter second string:Sitha sing a song\n",
            "The strings aren&#39;t anagrams.\n"
          ],
          "name": "stdout"
        }
      ]
    },
    {
      "cell_type": "markdown",
      "metadata": {
        "id": "MNEx352QV-AP",
        "colab_type": "text"
      },
      "source": [
        "#Form string where the first character and last character have been exchanged"
      ]
    },
    {
      "cell_type": "code",
      "metadata": {
        "id": "_5TnVBpvWS-x",
        "colab_type": "code",
        "colab": {
          "base_uri": "https://localhost:8080/",
          "height": 67
        },
        "outputId": "7b1ed5b6-8102-4689-b290-1a5349b85ba0"
      },
      "source": [
        "#Python Program to form a string where the first character and the last character have been exchanged.\n",
        "def change(string):\n",
        "  return string[-1:] + string[1:-1] + string[:1]\n",
        "string=input(\"Enter string:\")\n",
        "print(\"Modified string:\")\n",
        "print(change(string))"
      ],
      "execution_count": 24,
      "outputs": [
        {
          "output_type": "stream",
          "text": [
            "Enter string:siddu wear a red jacket \n",
            "Modified string:\n",
            " iddu wear a red jackets\n"
          ],
          "name": "stdout"
        }
      ]
    },
    {
      "cell_type": "markdown",
      "metadata": {
        "id": "FYGkqfndW7x-",
        "colab_type": "text"
      },
      "source": [
        "#Count number of vowels from a non empty string"
      ]
    },
    {
      "cell_type": "code",
      "metadata": {
        "id": "fnFeufKXXNsw",
        "colab_type": "code",
        "colab": {
          "base_uri": "https://localhost:8080/",
          "height": 67
        },
        "outputId": "58cdc75c-128a-4737-9ea3-b8f34b095ec9"
      },
      "source": [
        "#Python Program to count number of vowels from a non-empty string.\n",
        "string=input(\"Enter string:\")\n",
        "vowels=0\n",
        "for i in string:\n",
        "  if(i=='a' or i=='e' or i=='i' or i=='o' or i=='u' or i=='A' or i=='E' or i=='I' or i=='O' or i=='U'):\n",
        "    vowels=vowels+1\n",
        "print(\"Number of vowels are:\")\n",
        "print(vowels)"
      ],
      "execution_count": 27,
      "outputs": [
        {
          "output_type": "stream",
          "text": [
            "Enter string:Deepa sat on a chair\n",
            "Number of vowels are:\n",
            "8\n"
          ],
          "name": "stdout"
        }
      ]
    },
    {
      "cell_type": "markdown",
      "metadata": {
        "id": "Vf_KpgAVYUUg",
        "colab_type": "text"
      },
      "source": [
        "#Divide by zero error detection"
      ]
    },
    {
      "cell_type": "code",
      "metadata": {
        "id": "CPgDs9bKYfv9",
        "colab_type": "code",
        "colab": {
          "base_uri": "https://localhost:8080/",
          "height": 101
        },
        "outputId": "5914a3b2-31d5-45af-97f3-56ca3b30c478"
      },
      "source": [
        "#Program for Divide by zero error detection\n",
        "flag = True\n",
        "\n",
        "def div(a, b):\n",
        "  try:\n",
        "    print(\"Finally the division of %d/%d is %f\" % (a, b,a/b))\n",
        "    global flag\n",
        "    flag=False\n",
        "  except ZeroDivisionError:\n",
        "    print(\"Zero Division Error detected\")\n",
        "  else:\n",
        "    print(\"Division is successful\")\n",
        "  finally:\n",
        "    if flag is True:\n",
        "      print(\"Try again\")\n",
        "    else:\n",
        "      print(\"Thank you\")\n",
        "#global flag\n",
        "while flag is True:\n",
        "  div(int(input(\"Enter numerator\")),int(input(\"Enter denominator\")))"
      ],
      "execution_count": 29,
      "outputs": [
        {
          "output_type": "stream",
          "text": [
            "Enter numerator56\n",
            "Enter denominator9\n",
            "Finally the division of 56/9 is 6.222222\n",
            "Division is successful\n",
            "Thank you\n"
          ],
          "name": "stdout"
        }
      ]
    },
    {
      "cell_type": "markdown",
      "metadata": {
        "id": "9rHcciMtZxs9",
        "colab_type": "text"
      },
      "source": [
        "#ValueError error detection  "
      ]
    },
    {
      "cell_type": "code",
      "metadata": {
        "id": "ywk7qkvEZ3mK",
        "colab_type": "code",
        "colab": {
          "base_uri": "https://localhost:8080/",
          "height": 50
        },
        "outputId": "aa169593-7274-4668-ce1f-e80b7d26d433"
      },
      "source": [
        "#Program for ValueError error detection\n",
        "while True:\n",
        " try:\n",
        "    x = int(input(\"Please enter a number: \"))\n",
        "    print( \"That was valid number. Thank you\")\n",
        "    break\n",
        " except ValueError:\n",
        "    print(\"Oops! That was no valid number. Try again...\")"
      ],
      "execution_count": 40,
      "outputs": [
        {
          "output_type": "stream",
          "text": [
            "Please enter a number: 57\n",
            "That was valid number. Thank you\n"
          ],
          "name": "stdout"
        }
      ]
    }
  ]
}