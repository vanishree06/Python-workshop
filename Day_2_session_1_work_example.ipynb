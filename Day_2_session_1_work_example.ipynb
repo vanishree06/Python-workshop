{
  "nbformat": 4,
  "nbformat_minor": 0,
  "metadata": {
    "colab": {
      "name": "Day 2 session 1 work example",
      "provenance": [],
      "collapsed_sections": [],
      "authorship_tag": "ABX9TyPvrFwiI1CMmJWyF1F9Y9Q3",
      "include_colab_link": true
    },
    "kernelspec": {
      "name": "python3",
      "display_name": "Python 3"
    }
  },
  "cells": [
    {
      "cell_type": "markdown",
      "metadata": {
        "id": "view-in-github",
        "colab_type": "text"
      },
      "source": [
        "<a href=\"https://colab.research.google.com/github/vanishree06/Python-workshop/blob/master/Day_2_session_1_work_example.ipynb\" target=\"_parent\"><img src=\"https://colab.research.google.com/assets/colab-badge.svg\" alt=\"Open In Colab\"/></a>"
      ]
    },
    {
      "cell_type": "markdown",
      "metadata": {
        "id": "qULcIfiGs_-_",
        "colab_type": "text"
      },
      "source": [
        "#find the largest nor in list"
      ]
    },
    {
      "cell_type": "code",
      "metadata": {
        "id": "Ve0g8MLzs5Cw",
        "colab_type": "code",
        "colab": {
          "base_uri": "https://localhost:8080/",
          "height": 84
        },
        "outputId": "d1a79ba6-dee3-45f3-e557-56aa2920e867"
      },
      "source": [
        "#Program to find the largest number in a list.\n",
        "a=[]\n",
        "n=int(input(\"Enter number of elements:\"))\n",
        "for i in range(1,n+1):\n",
        "  b=int(input(\"Enter element:\"))\n",
        "  a.append(b)\n",
        "  a.sort()\n",
        "print(\"Largest element is:\",a[n-1])"
      ],
      "execution_count": 2,
      "outputs": [
        {
          "output_type": "stream",
          "text": [
            "Enter number of elements:2\n",
            "Enter element:6\n",
            "Enter element:8\n",
            "Largest element is: 8\n"
          ],
          "name": "stdout"
        }
      ]
    },
    {
      "cell_type": "code",
      "metadata": {
        "id": "QpSJ_XPZvsIT",
        "colab_type": "code",
        "colab": {
          "base_uri": "https://localhost:8080/",
          "height": 84
        },
        "outputId": "8b08016d-5a0e-473c-e48b-95afe5ea0452"
      },
      "source": [
        "x=0\n",
        "print('The greatest no is',max([int(input(x)) for _ in range(int(input(\"Enter no\")))]))"
      ],
      "execution_count": 6,
      "outputs": [
        {
          "output_type": "stream",
          "text": [
            "Enter no2\n",
            "6\n",
            "8\n",
            "The greatest no is 8\n"
          ],
          "name": "stdout"
        }
      ]
    },
    {
      "cell_type": "markdown",
      "metadata": {
        "id": "t4sB-se-wCOV",
        "colab_type": "text"
      },
      "source": [
        "#Program to merge two lists and sort it"
      ]
    },
    {
      "cell_type": "code",
      "metadata": {
        "id": "lSns9STEwNIb",
        "colab_type": "code",
        "colab": {
          "base_uri": "https://localhost:8080/",
          "height": 185
        },
        "outputId": "d43d55e5-9620-4bb7-b95e-d25644677c64"
      },
      "source": [
        "#Python Program to merge two lists and sort it.\n",
        "a=[]\n",
        "c=[]\n",
        "n1=int(input(\"Enter number of elements:\"))\n",
        "for i in range(1,n1+1):\n",
        "  b=int(input(\"Enter element:\"))\n",
        "  a.append(b)\n",
        "n2=int(input(\"Enter number of elements:\"))\n",
        "for i in range(1,n2+1):\n",
        "  d=int(input(\"Enter element:\"))\n",
        "  c.append(d)\n",
        "new=a+c\n",
        "new.sort()\n",
        "print(\"Sorted list is:\",new)"
      ],
      "execution_count": 7,
      "outputs": [
        {
          "output_type": "stream",
          "text": [
            "Enter number of elements:3\n",
            "Enter element:13\n",
            "Enter element:5\n",
            "Enter element:8\n",
            "Enter number of elements:4\n",
            "Enter element:5\n",
            "Enter element:24\n",
            "Enter element:46\n",
            "Enter element:67\n",
            "Sorted list is: [5, 5, 8, 13, 24, 46, 67]\n"
          ],
          "name": "stdout"
        }
      ]
    },
    {
      "cell_type": "code",
      "metadata": {
        "id": "iwpBkV53w9pR",
        "colab_type": "code",
        "colab": {
          "base_uri": "https://localhost:8080/",
          "height": 202
        },
        "outputId": "6283645c-1c44-41df-dd43-94193ba3c2e6"
      },
      "source": [
        "x=0\n",
        "l=[int(input(x)) for _ in range(int(input(\"Enter how many elements\")))]\n",
        "m=[int(input(x)) for _ in range(int(input(\"Enter how many elements \")))]\n",
        "new=l+m\n",
        "new.sort()\n",
        "print(\"Sorted list is:\",new)"
      ],
      "execution_count": 8,
      "outputs": [
        {
          "output_type": "stream",
          "text": [
            "Enter how many elements3\n",
            "13\n",
            "5\n",
            "8\n",
            "Enter how many elements 5\n",
            "23\n",
            "46\n",
            "89\n",
            "65\n",
            "35\n",
            "Sorted list is: [5, 8, 13, 23, 35, 46, 65, 89]\n"
          ],
          "name": "stdout"
        }
      ]
    },
    {
      "cell_type": "markdown",
      "metadata": {
        "id": "4L-SiBusxoZt",
        "colab_type": "text"
      },
      "source": [
        "#Sort the list according to the second element in the sublist"
      ]
    },
    {
      "cell_type": "code",
      "metadata": {
        "id": "YBjF1qT1xzu3",
        "colab_type": "code",
        "colab": {
          "base_uri": "https://localhost:8080/",
          "height": 34
        },
        "outputId": "605176e9-c81c-457e-8446-365df7c009c0"
      },
      "source": [
        "#Python Program to sort the list according to the second element in the sublist.\n",
        "a=[['A',34],['B',21],['C',26],['E',29]]\n",
        "for i in range(0,len(a)):\n",
        "   for j in range(i+1,len(a)):\n",
        "      if(a[i][1]>a[j][1]):\n",
        "        temp=a[j]\n",
        "        a[j]=a[i]\n",
        "        a[i]=temp\n",
        "print(a)"
      ],
      "execution_count": 11,
      "outputs": [
        {
          "output_type": "stream",
          "text": [
            "[['B', 21], ['C', 26], ['E', 29], ['A', 34]]\n"
          ],
          "name": "stdout"
        }
      ]
    },
    {
      "cell_type": "code",
      "metadata": {
        "id": "ZA7KQojaywaZ",
        "colab_type": "code",
        "colab": {
          "base_uri": "https://localhost:8080/",
          "height": 34
        },
        "outputId": "7d853d9c-bd29-4d14-a894-40e3fb3a9856"
      },
      "source": [
        "a=[['A',34],['B',21],['C',26],['E',29]]\n",
        "a.sort(key = lambda x: x[1])\n",
        "print(a)"
      ],
      "execution_count": 12,
      "outputs": [
        {
          "output_type": "stream",
          "text": [
            "[['B', 21], ['C', 26], ['E', 29], ['A', 34]]\n"
          ],
          "name": "stdout"
        }
      ]
    },
    {
      "cell_type": "markdown",
      "metadata": {
        "id": "AQEy5UUXzJq3",
        "colab_type": "text"
      },
      "source": [
        "#Program to find the second largest number in a list"
      ]
    },
    {
      "cell_type": "code",
      "metadata": {
        "id": "Zup7A82gzb4V",
        "colab_type": "code",
        "colab": {
          "base_uri": "https://localhost:8080/",
          "height": 101
        },
        "outputId": "d2a06250-d109-45f0-ecde-1072bab72d60"
      },
      "source": [
        "#Python Program to find the second largest number in a list\n",
        "a=[]\n",
        "n=int(input(\"Enter number of elements:\"))\n",
        "for i in range(1,n+1):\n",
        "   b=int(input(\"Enter element:\"))\n",
        "   a.append(b)\n",
        "for i in range(0,len(a)):\n",
        "  for j in range(0,len(a)-i-1):\n",
        "   if(a[j]>a[j+1]):\n",
        "    temp=a[j]\n",
        "    a[j]=a[j+1]\n",
        "    a[j+1]=temp\n",
        "print('Second largest number is:',a[n-2])"
      ],
      "execution_count": 14,
      "outputs": [
        {
          "output_type": "stream",
          "text": [
            "Enter number of elements:3\n",
            "Enter element:67\n",
            "Enter element:41\n",
            "Enter element:54\n",
            "Second largest number is: 54\n"
          ],
          "name": "stdout"
        }
      ]
    },
    {
      "cell_type": "code",
      "metadata": {
        "id": "wbW18Ucc0V5C",
        "colab_type": "code",
        "colab": {
          "base_uri": "https://localhost:8080/",
          "height": 101
        },
        "outputId": "539438e7-816f-4fce-ca17-dc8ffd28794b"
      },
      "source": [
        "x=0\n",
        "l=[int(input(x)) for _ in range(int(input(\"Enter how many elements\")))]\n",
        "l.sort()\n",
        "print(\"Second largest element is :\",l[-2])"
      ],
      "execution_count": 15,
      "outputs": [
        {
          "output_type": "stream",
          "text": [
            "Enter how many elements3\n",
            "41\n",
            "67\n",
            "46\n",
            "Second largest element is : 46\n"
          ],
          "name": "stdout"
        }
      ]
    },
    {
      "cell_type": "markdown",
      "metadata": {
        "id": "_sKAactv009V",
        "colab_type": "text"
      },
      "source": [
        "#Create a list of tuples with first element as the nor and the second elemment as the square of the nor"
      ]
    },
    {
      "cell_type": "code",
      "metadata": {
        "id": "oU5ZWG-Q1MGL",
        "colab_type": "code",
        "colab": {
          "base_uri": "https://localhost:8080/",
          "height": 87
        },
        "outputId": "43077610-f642-46c5-a7fb-56a317c6c51e"
      },
      "source": [
        "#Program to create a list of tuples with the first element as the number and the second element as the square of the number.\n",
        "l_range=int(input(\"Enter the lower range:\"))\n",
        "u_range=int(input(\"Enter the upper range:\"))\n",
        "a=[(x,x**2) for x in range(l_range,u_range+1)]\n",
        "print(a)"
      ],
      "execution_count": 18,
      "outputs": [
        {
          "output_type": "stream",
          "text": [
            "Enter the lower range:234\n",
            "Enter the upper range:687\n",
            "[(234, 54756), (235, 55225), (236, 55696), (237, 56169), (238, 56644), (239, 57121), (240, 57600), (241, 58081), (242, 58564), (243, 59049), (244, 59536), (245, 60025), (246, 60516), (247, 61009), (248, 61504), (249, 62001), (250, 62500), (251, 63001), (252, 63504), (253, 64009), (254, 64516), (255, 65025), (256, 65536), (257, 66049), (258, 66564), (259, 67081), (260, 67600), (261, 68121), (262, 68644), (263, 69169), (264, 69696), (265, 70225), (266, 70756), (267, 71289), (268, 71824), (269, 72361), (270, 72900), (271, 73441), (272, 73984), (273, 74529), (274, 75076), (275, 75625), (276, 76176), (277, 76729), (278, 77284), (279, 77841), (280, 78400), (281, 78961), (282, 79524), (283, 80089), (284, 80656), (285, 81225), (286, 81796), (287, 82369), (288, 82944), (289, 83521), (290, 84100), (291, 84681), (292, 85264), (293, 85849), (294, 86436), (295, 87025), (296, 87616), (297, 88209), (298, 88804), (299, 89401), (300, 90000), (301, 90601), (302, 91204), (303, 91809), (304, 92416), (305, 93025), (306, 93636), (307, 94249), (308, 94864), (309, 95481), (310, 96100), (311, 96721), (312, 97344), (313, 97969), (314, 98596), (315, 99225), (316, 99856), (317, 100489), (318, 101124), (319, 101761), (320, 102400), (321, 103041), (322, 103684), (323, 104329), (324, 104976), (325, 105625), (326, 106276), (327, 106929), (328, 107584), (329, 108241), (330, 108900), (331, 109561), (332, 110224), (333, 110889), (334, 111556), (335, 112225), (336, 112896), (337, 113569), (338, 114244), (339, 114921), (340, 115600), (341, 116281), (342, 116964), (343, 117649), (344, 118336), (345, 119025), (346, 119716), (347, 120409), (348, 121104), (349, 121801), (350, 122500), (351, 123201), (352, 123904), (353, 124609), (354, 125316), (355, 126025), (356, 126736), (357, 127449), (358, 128164), (359, 128881), (360, 129600), (361, 130321), (362, 131044), (363, 131769), (364, 132496), (365, 133225), (366, 133956), (367, 134689), (368, 135424), (369, 136161), (370, 136900), (371, 137641), (372, 138384), (373, 139129), (374, 139876), (375, 140625), (376, 141376), (377, 142129), (378, 142884), (379, 143641), (380, 144400), (381, 145161), (382, 145924), (383, 146689), (384, 147456), (385, 148225), (386, 148996), (387, 149769), (388, 150544), (389, 151321), (390, 152100), (391, 152881), (392, 153664), (393, 154449), (394, 155236), (395, 156025), (396, 156816), (397, 157609), (398, 158404), (399, 159201), (400, 160000), (401, 160801), (402, 161604), (403, 162409), (404, 163216), (405, 164025), (406, 164836), (407, 165649), (408, 166464), (409, 167281), (410, 168100), (411, 168921), (412, 169744), (413, 170569), (414, 171396), (415, 172225), (416, 173056), (417, 173889), (418, 174724), (419, 175561), (420, 176400), (421, 177241), (422, 178084), (423, 178929), (424, 179776), (425, 180625), (426, 181476), (427, 182329), (428, 183184), (429, 184041), (430, 184900), (431, 185761), (432, 186624), (433, 187489), (434, 188356), (435, 189225), (436, 190096), (437, 190969), (438, 191844), (439, 192721), (440, 193600), (441, 194481), (442, 195364), (443, 196249), (444, 197136), (445, 198025), (446, 198916), (447, 199809), (448, 200704), (449, 201601), (450, 202500), (451, 203401), (452, 204304), (453, 205209), (454, 206116), (455, 207025), (456, 207936), (457, 208849), (458, 209764), (459, 210681), (460, 211600), (461, 212521), (462, 213444), (463, 214369), (464, 215296), (465, 216225), (466, 217156), (467, 218089), (468, 219024), (469, 219961), (470, 220900), (471, 221841), (472, 222784), (473, 223729), (474, 224676), (475, 225625), (476, 226576), (477, 227529), (478, 228484), (479, 229441), (480, 230400), (481, 231361), (482, 232324), (483, 233289), (484, 234256), (485, 235225), (486, 236196), (487, 237169), (488, 238144), (489, 239121), (490, 240100), (491, 241081), (492, 242064), (493, 243049), (494, 244036), (495, 245025), (496, 246016), (497, 247009), (498, 248004), (499, 249001), (500, 250000), (501, 251001), (502, 252004), (503, 253009), (504, 254016), (505, 255025), (506, 256036), (507, 257049), (508, 258064), (509, 259081), (510, 260100), (511, 261121), (512, 262144), (513, 263169), (514, 264196), (515, 265225), (516, 266256), (517, 267289), (518, 268324), (519, 269361), (520, 270400), (521, 271441), (522, 272484), (523, 273529), (524, 274576), (525, 275625), (526, 276676), (527, 277729), (528, 278784), (529, 279841), (530, 280900), (531, 281961), (532, 283024), (533, 284089), (534, 285156), (535, 286225), (536, 287296), (537, 288369), (538, 289444), (539, 290521), (540, 291600), (541, 292681), (542, 293764), (543, 294849), (544, 295936), (545, 297025), (546, 298116), (547, 299209), (548, 300304), (549, 301401), (550, 302500), (551, 303601), (552, 304704), (553, 305809), (554, 306916), (555, 308025), (556, 309136), (557, 310249), (558, 311364), (559, 312481), (560, 313600), (561, 314721), (562, 315844), (563, 316969), (564, 318096), (565, 319225), (566, 320356), (567, 321489), (568, 322624), (569, 323761), (570, 324900), (571, 326041), (572, 327184), (573, 328329), (574, 329476), (575, 330625), (576, 331776), (577, 332929), (578, 334084), (579, 335241), (580, 336400), (581, 337561), (582, 338724), (583, 339889), (584, 341056), (585, 342225), (586, 343396), (587, 344569), (588, 345744), (589, 346921), (590, 348100), (591, 349281), (592, 350464), (593, 351649), (594, 352836), (595, 354025), (596, 355216), (597, 356409), (598, 357604), (599, 358801), (600, 360000), (601, 361201), (602, 362404), (603, 363609), (604, 364816), (605, 366025), (606, 367236), (607, 368449), (608, 369664), (609, 370881), (610, 372100), (611, 373321), (612, 374544), (613, 375769), (614, 376996), (615, 378225), (616, 379456), (617, 380689), (618, 381924), (619, 383161), (620, 384400), (621, 385641), (622, 386884), (623, 388129), (624, 389376), (625, 390625), (626, 391876), (627, 393129), (628, 394384), (629, 395641), (630, 396900), (631, 398161), (632, 399424), (633, 400689), (634, 401956), (635, 403225), (636, 404496), (637, 405769), (638, 407044), (639, 408321), (640, 409600), (641, 410881), (642, 412164), (643, 413449), (644, 414736), (645, 416025), (646, 417316), (647, 418609), (648, 419904), (649, 421201), (650, 422500), (651, 423801), (652, 425104), (653, 426409), (654, 427716), (655, 429025), (656, 430336), (657, 431649), (658, 432964), (659, 434281), (660, 435600), (661, 436921), (662, 438244), (663, 439569), (664, 440896), (665, 442225), (666, 443556), (667, 444889), (668, 446224), (669, 447561), (670, 448900), (671, 450241), (672, 451584), (673, 452929), (674, 454276), (675, 455625), (676, 456976), (677, 458329), (678, 459684), (679, 461041), (680, 462400), (681, 463761), (682, 465124), (683, 466489), (684, 467856), (685, 469225), (686, 470596), (687, 471969)]\n"
          ],
          "name": "stdout"
        }
      ]
    },
    {
      "cell_type": "markdown",
      "metadata": {
        "id": "hLuC9dVP4Gvc",
        "colab_type": "text"
      },
      "source": [
        "#Generate random nor from 1 to 20 and append them to the list"
      ]
    },
    {
      "cell_type": "code",
      "metadata": {
        "id": "kN4yOYmh1t6F",
        "colab_type": "code",
        "colab": {
          "base_uri": "https://localhost:8080/",
          "height": 50
        },
        "outputId": "2463ce07-1478-49e4-d753-955c8e0ed7c5"
      },
      "source": [
        "#Python Program to generate random numbers from 1 to 20 and append them to the list.\n",
        "import random\n",
        "a=[]\n",
        "n=int(input(\"Enter number of elements:\"))\n",
        "for j in range(n):\n",
        "  a.append(random.randint(1,20))\n",
        "print('Randomised list is:',a)\n"
      ],
      "execution_count": 35,
      "outputs": [
        {
          "output_type": "stream",
          "text": [
            "Enter number of elements:15\n",
            "Randomised list is: [13, 14, 4, 13, 18, 17, 1, 15, 8, 13, 5, 3, 2, 16, 11]\n"
          ],
          "name": "stdout"
        }
      ]
    },
    {
      "cell_type": "markdown",
      "metadata": {
        "id": "amsUGgyF6MDO",
        "colab_type": "text"
      },
      "source": [
        "#Program that assign variable"
      ]
    },
    {
      "cell_type": "code",
      "metadata": {
        "id": "OQqLxn1S7su7",
        "colab_type": "code",
        "colab": {
          "base_uri": "https://localhost:8080/",
          "height": 50
        },
        "outputId": "ba04a108-58af-45e8-a676-1c0d168c2459"
      },
      "source": [
        "#Python program that assigns variables\n",
        "# Create packed tuple.\n",
        "pair = (\"dog\",\"cat\")\n",
        "# Unpack tuple.\n",
        "(key, value) = pair\n",
        "# Display unpacked variables.\n",
        "print(key)\n",
        "print(value)"
      ],
      "execution_count": 37,
      "outputs": [
        {
          "output_type": "stream",
          "text": [
            "dog\n",
            "cat\n"
          ],
          "name": "stdout"
        }
      ]
    },
    {
      "cell_type": "markdown",
      "metadata": {
        "id": "wq9gku0e7_YU",
        "colab_type": "text"
      },
      "source": [
        "#Program that searches tuples"
      ]
    },
    {
      "cell_type": "code",
      "metadata": {
        "id": "vplv8o768Seu",
        "colab_type": "code",
        "colab": {
          "base_uri": "https://localhost:8080/",
          "height": 50
        },
        "outputId": "692fa2b5-6e25-409d-df22-feec4b29b645"
      },
      "source": [
        "#Python program that searches tuples\n",
        "pair = (\"dog\", \"cat\")\n",
        "# Search for a value.\n",
        "if \"cat\" in pair:\n",
        "  print(\"Cat found\")\n",
        "# Search for a value not present.\n",
        "if \"bird\" not in pair:\n",
        "  print(\"Bird not found\")"
      ],
      "execution_count": 39,
      "outputs": [
        {
          "output_type": "stream",
          "text": [
            "Cat found\n",
            "Bird not found\n"
          ],
          "name": "stdout"
        }
      ]
    },
    {
      "cell_type": "markdown",
      "metadata": {
        "id": "hQGimxki5UA5",
        "colab_type": "text"
      },
      "source": [
        "#list of words to sort them from longest to shortest using list of tuple"
      ]
    },
    {
      "cell_type": "code",
      "metadata": {
        "id": "EpLuXlgZ5szR",
        "colab_type": "code",
        "colab": {
          "base_uri": "https://localhost:8080/",
          "height": 34
        },
        "outputId": "67625134-beda-4eb7-8f4c-aedfe4669817"
      },
      "source": [
        "#Write python program to have a list of words to sort them from longest to shortest using list of tuples\n",
        "txt = 'but soft what light in yonder window breaks'\n",
        "words = txt.split()\n",
        "t = list()\n",
        "for word in words:\n",
        "  t.append((len(word), word))\n",
        "t.sort(reverse=True)\n",
        "res = list()\n",
        "for length, word in t:\n",
        "  res.append(word)\n",
        "print(res)"
      ],
      "execution_count": 36,
      "outputs": [
        {
          "output_type": "stream",
          "text": [
            "['yonder', 'window', 'breaks', 'light', 'what', 'soft', 'but', 'in']\n"
          ],
          "name": "stdout"
        }
      ]
    },
    {
      "cell_type": "markdown",
      "metadata": {
        "id": "KUQOASQ5t4k5",
        "colab_type": "text"
      },
      "source": [
        "#put odd and even element in a list into two diff lists"
      ]
    },
    {
      "cell_type": "code",
      "metadata": {
        "id": "SGoJo0EtugQz",
        "colab_type": "code",
        "colab": {
          "base_uri": "https://localhost:8080/",
          "height": 118
        },
        "outputId": "17e4757f-bf76-4bc1-fef3-4cf267275a6e"
      },
      "source": [
        "#Python Program to put the even and odd elements in a list into two different lists.\n",
        "a=[]\n",
        "n=int(input(\"Enter number of elements:\"))\n",
        "for i in range(1,n+1):\n",
        "  b=int(input(\"Enter element:\"))\n",
        "  a.append(b)\n",
        "even=[]\n",
        "odd=[]\n",
        "for j in a:\n",
        "  if(j%2==0):\n",
        "    even.append(j)\n",
        "  else:\n",
        "    odd.append(j)\n",
        "print(\"The even list\",even)\n",
        "print(\"The odd list\",odd)"
      ],
      "execution_count": 3,
      "outputs": [
        {
          "output_type": "stream",
          "text": [
            "Enter number of elements:3\n",
            "Enter element:5\n",
            "Enter element:9\n",
            "Enter element:12\n",
            "The even list [12]\n",
            "The odd list [5, 9]\n"
          ],
          "name": "stdout"
        }
      ]
    },
    {
      "cell_type": "code",
      "metadata": {
        "id": "PPKZk3gUvEU0",
        "colab_type": "code",
        "colab": {
          "base_uri": "https://localhost:8080/",
          "height": 118
        },
        "outputId": "d5c14825-bc45-4121-c86c-31baef02bb27"
      },
      "source": [
        "x=0\n",
        "l=[int(input(x)) for _ in range(int(input(\"Enter n\")))]\n",
        "print('even list is',[ i for i in l if i%2])\n",
        "print('odd list is',[i for i in l if not i%2])"
      ],
      "execution_count": 5,
      "outputs": [
        {
          "output_type": "stream",
          "text": [
            "Enter n3\n",
            "5\n",
            "9\n",
            "12\n",
            "even list is [5, 9]\n",
            "odd list is [12]\n"
          ],
          "name": "stdout"
        }
      ]
    }
  ]
}