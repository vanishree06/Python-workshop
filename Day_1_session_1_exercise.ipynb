{
  "nbformat": 4,
  "nbformat_minor": 0,
  "metadata": {
    "colab": {
      "name": "Day 1 session 1 exercise",
      "provenance": [],
      "collapsed_sections": [],
      "toc_visible": true,
      "authorship_tag": "ABX9TyMJVoaGpWlQGZLatNv9SXGN",
      "include_colab_link": true
    },
    "kernelspec": {
      "name": "python3",
      "display_name": "Python 3"
    }
  },
  "cells": [
    {
      "cell_type": "markdown",
      "metadata": {
        "id": "view-in-github",
        "colab_type": "text"
      },
      "source": [
        "<a href=\"https://colab.research.google.com/github/vanishree06/Python-workshop/blob/master/Day_1_session_1_exercise.ipynb\" target=\"_parent\"><img src=\"https://colab.research.google.com/assets/colab-badge.svg\" alt=\"Open In Colab\"/></a>"
      ]
    },
    {
      "cell_type": "markdown",
      "metadata": {
        "id": "tlqPKuYNELgY",
        "colab_type": "text"
      },
      "source": [
        "#Compound interest for given p,n,r"
      ]
    },
    {
      "cell_type": "code",
      "metadata": {
        "id": "CQxTacQIC60Z",
        "colab_type": "code",
        "colab": {
          "base_uri": "https://localhost:8080/",
          "height": 34
        },
        "outputId": "9e3c8813-a4fa-4501-e37a-d38b032a3802"
      },
      "source": [
        "def compound_interest(principle, rate, n): \n",
        "\n",
        "  \n",
        "\n",
        "    # Calculates compound interest  \n",
        "\n",
        "    Amount = principle * (pow((1 +(n * rate) / 100), n)) \n",
        "\n",
        "    CI = Amount - principle \n",
        "\n",
        "    print(\"Compound interest is\", CI) \n",
        "\n",
        "  \n",
        "# Driver Code  \n",
        "\n",
        "compound_interest(10000, 10.25, 5)"
      ],
      "execution_count": null,
      "outputs": [
        {
          "output_type": "stream",
          "text": [
            "Compound interest is 69154.73816223144\n"
          ],
          "name": "stdout"
        }
      ]
    },
    {
      "cell_type": "markdown",
      "metadata": {
        "id": "nFyqtXVQEZ_E",
        "colab_type": "text"
      },
      "source": [
        "#Convert centegrade to farenheit"
      ]
    },
    {
      "cell_type": "code",
      "metadata": {
        "id": "yCkjkW_aEmhT",
        "colab_type": "code",
        "colab": {
          "base_uri": "https://localhost:8080/",
          "height": 50
        },
        "outputId": "f406a03a-6f74-4be4-b1d2-16870928f645"
      },
      "source": [
        "celsius = float(input(\"Enter temperature in celsius: \"))\n",
        "fahrenheit = (celsius * 9/5) + 32\n",
        "print('%.2f Celsius is: %0.2f Fahrenheit' %(celsius, fahrenheit))\n"
      ],
      "execution_count": null,
      "outputs": [
        {
          "output_type": "stream",
          "text": [
            "Enter temperature in celsius: 189\n",
            "189.00 Celsius is: 372.20 Fahrenheit\n"
          ],
          "name": "stdout"
        }
      ]
    },
    {
      "cell_type": "markdown",
      "metadata": {
        "id": "0XwLgmgtEyA8",
        "colab_type": "text"
      },
      "source": [
        "#Find the surface area of cylinder and cone"
      ]
    },
    {
      "cell_type": "code",
      "metadata": {
        "id": "RAInBYEHFyfY",
        "colab_type": "code",
        "colab": {
          "base_uri": "https://localhost:8080/",
          "height": 50
        },
        "outputId": "b98a8932-2eb7-4c4b-fb4b-4e1393db9d32"
      },
      "source": [
        "import math \n",
        "\n",
        "pi = math.pi \n",
        "# Function To Calculate Surface Area of Cone \n",
        "\n",
        "def surfacearea(r, s): \n",
        "\n",
        "    return pi * r * s + pi * r * r \n",
        "\n",
        "# Function To Calculate Total Surface Area \n",
        "# of Cylinder \n",
        "\n",
        "def totalsurfacearea(r, h): \n",
        "\n",
        "    tsurf_ar = (2 * pi * r * h) + (2 * pi * r * r) \n",
        "\n",
        "    return tsurf_ar \n",
        "  \n",
        "# Driver Code \n",
        "radius = float(5) \n",
        "height = float(12) \n",
        "slat_height = float(13) \n",
        "r = 5\n",
        "h = 8\n",
        "print( \"Surface Area Of Cone : \", surfacearea(radius, slat_height) )\n",
        "print(\"Total  Surface Area  Of Cylinder =  \",totalsurfacearea(r,h))\n",
        "\n",
        "\n"
      ],
      "execution_count": null,
      "outputs": [
        {
          "output_type": "stream",
          "text": [
            "Surface Area Of Cone :  282.7433388230814\n",
            "Total  Surface Area  Of Cylinder =   408.4070449666731\n"
          ],
          "name": "stdout"
        }
      ]
    },
    {
      "cell_type": "markdown",
      "metadata": {
        "id": "jTiPGXE1whwG",
        "colab_type": "text"
      },
      "source": [
        "#Find the greater of four nor"
      ]
    },
    {
      "cell_type": "code",
      "metadata": {
        "id": "LsxQIzugwuMY",
        "colab_type": "code",
        "colab": {
          "base_uri": "https://localhost:8080/",
          "height": 34
        },
        "outputId": "2c786e1e-b801-4695-9c8e-0cd1660e8b1d"
      },
      "source": [
        "# Python program to find largest \n",
        "# between two numbers using \n",
        "# Ternary Operator. \n",
        "\n",
        "# As python doesn't have ternary operator, \n",
        "# we use conditional expression, \n",
        "# form of conditional expression: \n",
        "# exp1 if condition else exp2 \n",
        "# if condition is true then exp1 \n",
        "# is evaluated otherwise exp2 \n",
        "# max is library function to find \n",
        "# the maximum number, so can't use \n",
        "# max as variable \n",
        "n1 = 5\n",
        "n2 = 10\n",
        "\n",
        "mx = n1 if n1 > n2 else n2 \n",
        "\n",
        "# we also can use \n",
        "# mx=(n1>n2) and n1 or n2 \n",
        "\n",
        "# str() function is used to \n",
        "# convert integer to string, \n",
        "# it is required as we are \n",
        "# concatenating integers with string \n",
        "print(\"Largest number between \" + str(n1) +\n",
        "\t\t\t\t\t\t\" and \" + str(n2) +\n",
        "\t\t\t\t\t\t\" is \" + str(mx)) "
      ],
      "execution_count": 1,
      "outputs": [
        {
          "output_type": "stream",
          "text": [
            "Largest number between 5 and 10 is 10\n"
          ],
          "name": "stdout"
        }
      ]
    },
    {
      "cell_type": "markdown",
      "metadata": {
        "id": "_KLPJTTZIPPO",
        "colab_type": "text"
      },
      "source": [
        "#Find the greater of two nor"
      ]
    },
    {
      "cell_type": "code",
      "metadata": {
        "id": "Uyse2rqhIXB2",
        "colab_type": "code",
        "colab": {
          "base_uri": "https://localhost:8080/",
          "height": 67
        },
        "outputId": "5b4658f9-3642-4dd1-cbb4-c0e6228c9cd2"
      },
      "source": [
        "#Python Program to find Largest of two Numbers using if-else statements\n",
        "a = int(input(\"Enter the first number: \"))\n",
        "b = int(input(\"Enter the second number: \"))\n",
        "if(a >= b):\n",
        "  print(a, \"is greater\")\n",
        "else:\n",
        "  print(b, \"is greater\")\n"
      ],
      "execution_count": null,
      "outputs": [
        {
          "output_type": "stream",
          "text": [
            "Enter the first number: 46\n",
            "Enter the second number: 89\n",
            "89 is greater\n"
          ],
          "name": "stdout"
        }
      ]
    }
  ]
}