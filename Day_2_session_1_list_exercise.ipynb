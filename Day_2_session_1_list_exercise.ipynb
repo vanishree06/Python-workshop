{
  "nbformat": 4,
  "nbformat_minor": 0,
  "metadata": {
    "colab": {
      "name": "Day 2 session 1 list exercise",
      "provenance": [],
      "collapsed_sections": [],
      "authorship_tag": "ABX9TyMczavHgDOLXsS5L9ADbfVJ",
      "include_colab_link": true
    },
    "kernelspec": {
      "name": "python3",
      "display_name": "Python 3"
    }
  },
  "cells": [
    {
      "cell_type": "markdown",
      "metadata": {
        "id": "view-in-github",
        "colab_type": "text"
      },
      "source": [
        "<a href=\"https://colab.research.google.com/github/vanishree06/Python-workshop/blob/master/Day_2_session_1_list_exercise.ipynb\" target=\"_parent\"><img src=\"https://colab.research.google.com/assets/colab-badge.svg\" alt=\"Open In Colab\"/></a>"
      ]
    },
    {
      "cell_type": "markdown",
      "metadata": {
        "id": "Y4ijOQl79jcz",
        "colab_type": "text"
      },
      "source": [
        "#Nors only divisable by 5 and 7 blw 1000 and 2000 using a list"
      ]
    },
    {
      "cell_type": "code",
      "metadata": {
        "id": "LwFJzY2a9Y0B",
        "colab_type": "code",
        "colab": {
          "base_uri": "https://localhost:8080/",
          "height": 34
        },
        "outputId": "31f99711-14d8-41e4-85fd-44993bac6b7f"
      },
      "source": [
        "nl=[]\n",
        "for x in range(1000, 2000):\n",
        "    if (x%7==0) and (x%5==0):\n",
        "        nl.append(str(x))\n",
        "print (','.join(nl))\n"
      ],
      "execution_count": 2,
      "outputs": [
        {
          "output_type": "stream",
          "text": [
            "1015,1050,1085,1120,1155,1190,1225,1260,1295,1330,1365,1400,1435,1470,1505,1540,1575,1610,1645,1680,1715,1750,1785,1820,1855,1890,1925,1960,1995\n"
          ],
          "name": "stdout"
        }
      ]
    },
    {
      "cell_type": "markdown",
      "metadata": {
        "id": "leP5DGPQANf3",
        "colab_type": "text"
      },
      "source": [
        "#Add the n nor of names in a list and print them alphabetically and reverse alphabetically"
      ]
    },
    {
      "cell_type": "code",
      "metadata": {
        "id": "pLIY3ZzMCEWk",
        "colab_type": "code",
        "colab": {
          "base_uri": "https://localhost:8080/",
          "height": 454
        },
        "outputId": "eb9b4694-2f91-417b-b8d0-1017a355d455"
      },
      "source": [
        "locations = ['himalaya', 'andes', 'tierra del fuego', 'labrador', 'guam']\n",
        "\n",
        "print(\"Original order:\")\n",
        "print(locations)\n",
        "\n",
        "print(\"\\nAlphabetical:\")\n",
        "print(sorted(locations))\n",
        "\n",
        "print(\"\\nOriginal order:\")\n",
        "print(locations)\n",
        "\n",
        "print(\"\\nReverse alphabetical:\")\n",
        "print(sorted(locations, reverse=True))\n",
        "\n",
        "print(\"\\nOriginal order:\")\n",
        "print(locations)\n",
        "\n",
        "print(\"\\nReversed:\")\n",
        "locations.reverse()\n",
        "print(locations)\n",
        "\n",
        "print(\"\\nOriginal order:\")\n",
        "locations.reverse()\n",
        "print(locations)\n",
        "\n",
        "print(\"\\nAlphabetical\")\n",
        "locations.sort()\n",
        "print(locations)\n",
        "\n",
        "print(\"\\nReverse alphabetical\")\n",
        "locations.sort(reverse=True)\n",
        "print(locations)"
      ],
      "execution_count": 3,
      "outputs": [
        {
          "output_type": "stream",
          "text": [
            "Original order:\n",
            "['himalaya', 'andes', 'tierra del fuego', 'labrador', 'guam']\n",
            "\n",
            "Alphabetical:\n",
            "['andes', 'guam', 'himalaya', 'labrador', 'tierra del fuego']\n",
            "\n",
            "Original order:\n",
            "['himalaya', 'andes', 'tierra del fuego', 'labrador', 'guam']\n",
            "\n",
            "Reverse alphabetical:\n",
            "['tierra del fuego', 'labrador', 'himalaya', 'guam', 'andes']\n",
            "\n",
            "Original order:\n",
            "['himalaya', 'andes', 'tierra del fuego', 'labrador', 'guam']\n",
            "\n",
            "Reversed:\n",
            "['guam', 'labrador', 'tierra del fuego', 'andes', 'himalaya']\n",
            "\n",
            "Original order:\n",
            "['himalaya', 'andes', 'tierra del fuego', 'labrador', 'guam']\n",
            "\n",
            "Alphabetical\n",
            "['andes', 'guam', 'himalaya', 'labrador', 'tierra del fuego']\n",
            "\n",
            "Reverse alphabetical\n",
            "['tierra del fuego', 'labrador', 'himalaya', 'guam', 'andes']\n"
          ],
          "name": "stdout"
        }
      ]
    },
    {
      "cell_type": "markdown",
      "metadata": {
        "id": "1IaStsMKJ8TN",
        "colab_type": "text"
      },
      "source": [
        "#Print multiple by 3 upto 200 "
      ]
    },
    {
      "cell_type": "code",
      "metadata": {
        "id": "YndO_f4vJ9Iy",
        "colab_type": "code",
        "colab": {
          "base_uri": "https://localhost:8080/",
          "height": 54
        },
        "outputId": "aeff7916-8fd6-48e2-cb75-69fd00a35180"
      },
      "source": [
        "mul_of_3=[x*3 for x in range(200)]\n",
        "print(mul_of_3)"
      ],
      "execution_count": 51,
      "outputs": [
        {
          "output_type": "stream",
          "text": [
            "[0, 3, 6, 9, 12, 15, 18, 21, 24, 27, 30, 33, 36, 39, 42, 45, 48, 51, 54, 57, 60, 63, 66, 69, 72, 75, 78, 81, 84, 87, 90, 93, 96, 99, 102, 105, 108, 111, 114, 117, 120, 123, 126, 129, 132, 135, 138, 141, 144, 147, 150, 153, 156, 159, 162, 165, 168, 171, 174, 177, 180, 183, 186, 189, 192, 195, 198, 201, 204, 207, 210, 213, 216, 219, 222, 225, 228, 231, 234, 237, 240, 243, 246, 249, 252, 255, 258, 261, 264, 267, 270, 273, 276, 279, 282, 285, 288, 291, 294, 297, 300, 303, 306, 309, 312, 315, 318, 321, 324, 327, 330, 333, 336, 339, 342, 345, 348, 351, 354, 357, 360, 363, 366, 369, 372, 375, 378, 381, 384, 387, 390, 393, 396, 399, 402, 405, 408, 411, 414, 417, 420, 423, 426, 429, 432, 435, 438, 441, 444, 447, 450, 453, 456, 459, 462, 465, 468, 471, 474, 477, 480, 483, 486, 489, 492, 495, 498, 501, 504, 507, 510, 513, 516, 519, 522, 525, 528, 531, 534, 537, 540, 543, 546, 549, 552, 555, 558, 561, 564, 567, 570, 573, 576, 579, 582, 585, 588, 591, 594, 597]\n"
          ],
          "name": "stdout"
        }
      ]
    },
    {
      "cell_type": "markdown",
      "metadata": {
        "id": "F1yO-40bCfUc",
        "colab_type": "text"
      },
      "source": [
        "#find perfect sqr and divisible by  5 blw 500 and 1000"
      ]
    },
    {
      "cell_type": "code",
      "metadata": {
        "id": "HehjhCA0CgM3",
        "colab_type": "code",
        "colab": {}
      },
      "source": [
        "def perfectSquares(l, r): \n",
        "\tfor i in range(l, r + 1): \n",
        "\t\tif (i/(5) == int(i/(5))): \n",
        "\t\t\tprint(i, end=\" \") \n",
        "l = 500\n",
        "r = 1000\n",
        "perfectSquares(l, r) \n"
      ],
      "execution_count": null,
      "outputs": []
    },
    {
      "cell_type": "markdown",
      "metadata": {
        "id": "cSRWB6pCF6QJ",
        "colab_type": "text"
      },
      "source": [
        "#Average of the nor in a list by getting the element of list from keyboard"
      ]
    },
    {
      "cell_type": "code",
      "metadata": {
        "id": "SeO-oUClF7HA",
        "colab_type": "code",
        "colab": {
          "base_uri": "https://localhost:8080/",
          "height": 118
        },
        "outputId": "56cd4f58-73d0-4a23-a3ac-a5e718032158"
      },
      "source": [
        "n=int(input(\"Enter the number of elements to be inserted: \"))\n",
        "a=[]\n",
        "for i in range(0,n):\n",
        "    elem=int(input(\"Enter element: \"))\n",
        "    a.append(elem)\n",
        "avg=sum(a)/n\n",
        "print(\"Average of elements in the list\",round(avg,2))"
      ],
      "execution_count": 8,
      "outputs": [
        {
          "output_type": "stream",
          "text": [
            "Enter the number of elements to be inserted: 4\n",
            "Enter element: 54\n",
            "Enter element: 68\n",
            "Enter element: 94\n",
            "Enter element: 37\n",
            "Average of elements in the list 63.25\n"
          ],
          "name": "stdout"
        }
      ]
    },
    {
      "cell_type": "markdown",
      "metadata": {
        "id": "NSm9b-WzG7p0",
        "colab_type": "text"
      },
      "source": [
        "#program to print even,odd,divisible by 5"
      ]
    },
    {
      "cell_type": "code",
      "metadata": {
        "id": "qUk9ltX-G8eq",
        "colab_type": "code",
        "colab": {
          "base_uri": "https://localhost:8080/",
          "height": 67
        },
        "outputId": "7eb8615c-088e-49a3-da6e-ef109f1ffd5e"
      },
      "source": [
        "# Python program to print even Numbers in a List  \n",
        "list1 = [10, 21, 4, 45, 66, 93] \n",
        "even_nos = [num for num in list1 if num % 2 == 0] \n",
        "print(\"Even numbers in the list: \", even_nos) \n",
        "odd_nos=[num for num in list1 if num%2 == 1]\n",
        "print(\"odd number in the list:\",odd_nos)\n",
        "divi_nos=[num for num in list1 if num%5 == 0]\n",
        "print(\"divisable by 5:\",divi_nos)"
      ],
      "execution_count": 15,
      "outputs": [
        {
          "output_type": "stream",
          "text": [
            "Even numbers in the list:  [10, 4, 66]\n",
            "odd number in the list: [21, 45, 93]\n",
            "divisable by 5: [10, 45]\n"
          ],
          "name": "stdout"
        }
      ]
    }
  ]
}