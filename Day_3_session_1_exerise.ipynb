{
  "nbformat": 4,
  "nbformat_minor": 0,
  "metadata": {
    "colab": {
      "name": "Day 3 session 1 exerise",
      "provenance": [],
      "collapsed_sections": [],
      "authorship_tag": "ABX9TyMU1QYO9Lop9y0sULmoiFRV",
      "include_colab_link": true
    },
    "kernelspec": {
      "name": "python3",
      "display_name": "Python 3"
    }
  },
  "cells": [
    {
      "cell_type": "markdown",
      "metadata": {
        "id": "view-in-github",
        "colab_type": "text"
      },
      "source": [
        "<a href=\"https://colab.research.google.com/github/vanishree06/Python-workshop/blob/master/Day_3_session_1_exerise.ipynb\" target=\"_parent\"><img src=\"https://colab.research.google.com/assets/colab-badge.svg\" alt=\"Open In Colab\"/></a>"
      ]
    },
    {
      "cell_type": "markdown",
      "metadata": {
        "id": "j1n1xkUTvguR",
        "colab_type": "text"
      },
      "source": [
        "#find numbers between 100 and 400 (both included) which are divisable both by 5 or 7"
      ]
    },
    {
      "cell_type": "code",
      "metadata": {
        "id": "s3PXJnyctX28",
        "colab_type": "code",
        "colab": {
          "base_uri": "https://localhost:8080/",
          "height": 34
        },
        "outputId": "6f615168-80e6-4029-c570-c6fcabc3fca6"
      },
      "source": [
        "nl=[]\n",
        "for x in range(1500, 2701):\n",
        "    if (x%7==0) and (x%5==0):\n",
        "        nl.append(str(x))\n",
        "print (','.join(nl))\n"
      ],
      "execution_count": 6,
      "outputs": [
        {
          "output_type": "stream",
          "text": [
            "1505,1540,1575,1610,1645,1680,1715,1750,1785,1820,1855,1890,1925,1960,1995,2030,2065,2100,2135,2170,2205,2240,2275,2310,2345,2380,2415,2450,2485,2520,2555,2590,2625,2660,2695\n"
          ],
          "name": "stdout"
        }
      ]
    },
    {
      "cell_type": "markdown",
      "metadata": {
        "id": "t4hU1bo-vxRu",
        "colab_type": "text"
      },
      "source": [
        "#find prime numbers between 200 and 600"
      ]
    },
    {
      "cell_type": "code",
      "metadata": {
        "id": "8yFU5X4sxZHX",
        "colab_type": "code",
        "colab": {
          "base_uri": "https://localhost:8080/",
          "height": 1000
        },
        "outputId": "c38bb9cb-55d3-47b5-b20d-f2bb822aec59"
      },
      "source": [
        "lower = int(input(\"Enter lower range: \"))  \n",
        "upper = int(input(\"Enter upper range: \"))  \n",
        "  \n",
        "for num in range(lower,upper + 1):  \n",
        "   if num > 1:  \n",
        "       for i in range(2,num):  \n",
        "           if (num % i) == 0:  \n",
        "               break  \n",
        "       else:  \n",
        "           print(num)  "
      ],
      "execution_count": 7,
      "outputs": [
        {
          "output_type": "stream",
          "text": [
            "Enter lower range: 200\n",
            "Enter upper range: 600\n",
            "211\n",
            "223\n",
            "227\n",
            "229\n",
            "233\n",
            "239\n",
            "241\n",
            "251\n",
            "257\n",
            "263\n",
            "269\n",
            "271\n",
            "277\n",
            "281\n",
            "283\n",
            "293\n",
            "307\n",
            "311\n",
            "313\n",
            "317\n",
            "331\n",
            "337\n",
            "347\n",
            "349\n",
            "353\n",
            "359\n",
            "367\n",
            "373\n",
            "379\n",
            "383\n",
            "389\n",
            "397\n",
            "401\n",
            "409\n",
            "419\n",
            "421\n",
            "431\n",
            "433\n",
            "439\n",
            "443\n",
            "449\n",
            "457\n",
            "461\n",
            "463\n",
            "467\n",
            "479\n",
            "487\n",
            "491\n",
            "499\n",
            "503\n",
            "509\n",
            "521\n",
            "523\n",
            "541\n",
            "547\n",
            "557\n",
            "563\n",
            "569\n",
            "571\n",
            "577\n",
            "587\n",
            "593\n",
            "599\n"
          ],
          "name": "stdout"
        }
      ]
    },
    {
      "cell_type": "markdown",
      "metadata": {
        "id": "hsyYQ3gkxqqW",
        "colab_type": "text"
      },
      "source": [
        "#find All Numbers which are Odd and Palindromes Between a Range of Numbers without using Recursion."
      ]
    },
    {
      "cell_type": "code",
      "metadata": {
        "id": "k_ZuC0qxxrVH",
        "colab_type": "code",
        "colab": {
          "base_uri": "https://localhost:8080/",
          "height": 87
        },
        "outputId": "c5d2866f-fefa-4ba3-ba16-04d5bd301957"
      },
      "source": [
        "a=[]\n",
        "l=int(input(\"Enter lower limit: \"))\n",
        "u=int(input(\"Enter upper limit: \"))\n",
        "a=[x for x in range(l,u+1) if x%2!=0 and str(x)==str(x)[::-1]]\n",
        "print(\"The numbers are: \",a)"
      ],
      "execution_count": 8,
      "outputs": [
        {
          "output_type": "stream",
          "text": [
            "Enter lower limit: 1\n",
            "Enter upper limit: 600\n",
            "The numbers are:  [1, 3, 5, 7, 9, 11, 33, 55, 77, 99, 101, 111, 121, 131, 141, 151, 161, 171, 181, 191, 303, 313, 323, 333, 343, 353, 363, 373, 383, 393, 505, 515, 525, 535, 545, 555, 565, 575, 585, 595]\n"
          ],
          "name": "stdout"
        }
      ]
    },
    {
      "cell_type": "markdown",
      "metadata": {
        "id": "RsD9XAzGy7EZ",
        "colab_type": "text"
      },
      "source": [
        "#read a number n and print the series “5+10+…..+n= sum upto n ” ."
      ]
    },
    {
      "cell_type": "code",
      "metadata": {
        "id": "LQU6lj0JzwfM",
        "colab_type": "code",
        "colab": {
          "base_uri": "https://localhost:8080/",
          "height": 34
        },
        "outputId": "ebcef1ce-9bee-4e77-8405-327b620d60c5"
      },
      "source": [
        "def sumOfDigitsFrom1ToN(n) : \n",
        "\tresult = 0\n",
        "\tfor x in range(1, n+1) : \n",
        "\t\tresult = result + sumOfDigits(x) \n",
        "\treturn result \n",
        "def sumOfDigits(x) : \n",
        "\tsum = 0\n",
        "\twhile (x != 0) : \n",
        "\t\tsum = sum + x % 10\n",
        "\t\tx = x // 10\n",
        "\treturn sum \n",
        "n = 328\n",
        "print(\"Sum of digits in numbers from 1 to\", n, \"is\", sumOfDigitsFrom1ToN(n)) \n"
      ],
      "execution_count": 9,
      "outputs": [
        {
          "output_type": "stream",
          "text": [
            "Sum of digits in numbers from 1 to 328 is 3241\n"
          ],
          "name": "stdout"
        }
      ]
    }
  ]
}