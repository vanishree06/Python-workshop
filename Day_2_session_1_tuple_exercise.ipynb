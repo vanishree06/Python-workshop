{
  "nbformat": 4,
  "nbformat_minor": 0,
  "metadata": {
    "colab": {
      "name": "Day 2 session 1 tuple exercise",
      "provenance": [],
      "collapsed_sections": [],
      "authorship_tag": "ABX9TyNTm5ZK35EvJCDhZdu2olIN",
      "include_colab_link": true
    },
    "kernelspec": {
      "name": "python3",
      "display_name": "Python 3"
    }
  },
  "cells": [
    {
      "cell_type": "markdown",
      "metadata": {
        "id": "view-in-github",
        "colab_type": "text"
      },
      "source": [
        "<a href=\"https://colab.research.google.com/github/vanishree06/Python-workshop/blob/master/Day_2_session_1_tuple_exercise.ipynb\" target=\"_parent\"><img src=\"https://colab.research.google.com/assets/colab-badge.svg\" alt=\"Open In Colab\"/></a>"
      ]
    },
    {
      "cell_type": "markdown",
      "metadata": {
        "id": "bF3JXcrLmRhq",
        "colab_type": "text"
      },
      "source": [
        "#In[2]"
      ]
    },
    {
      "cell_type": "code",
      "metadata": {
        "id": "3z1dEb2jmQTg",
        "colab_type": "code",
        "colab": {
          "base_uri": "https://localhost:8080/",
          "height": 50
        },
        "outputId": "9173902f-22de-4fcc-e627-c34d1bb56c32"
      },
      "source": [
        "l = (x for x in input('Enter Names : ').split()) # tuple\n",
        "l = sorted(l,key = lambda x: len(x))\n",
        "print(l)"
      ],
      "execution_count": 1,
      "outputs": [
        {
          "output_type": "stream",
          "text": [
            "Enter Names : name 1  raju \n",
            "['1', 'name', 'raju']\n"
          ],
          "name": "stdout"
        }
      ]
    },
    {
      "cell_type": "markdown",
      "metadata": {
        "id": "_PGm_Vj6nVPI",
        "colab_type": "text"
      },
      "source": [
        "#1st element  as nor and 2nd element as the sqr of nor"
      ]
    },
    {
      "cell_type": "code",
      "metadata": {
        "id": "0GU3vWEqnusz",
        "colab_type": "code",
        "colab": {
          "base_uri": "https://localhost:8080/",
          "height": 50
        },
        "outputId": "ec852c23-93b9-4246-d3ba-85cc5396f8e5"
      },
      "source": [
        "l = [(x,x**2) for x in range(int(input('Enter Number : ')))]\n",
        "print(l)"
      ],
      "execution_count": 2,
      "outputs": [
        {
          "output_type": "stream",
          "text": [
            "Enter Number : 18\n",
            "[(0, 0), (1, 1), (2, 4), (3, 9), (4, 16), (5, 25), (6, 36), (7, 49), (8, 64), (9, 81), (10, 100), (11, 121), (12, 144), (13, 169), (14, 196), (15, 225), (16, 256), (17, 289)]\n"
          ],
          "name": "stdout"
        }
      ]
    },
    {
      "cell_type": "markdown",
      "metadata": {
        "id": "gQ4dKzJ8oF6g",
        "colab_type": "text"
      },
      "source": [
        "#3,4,5,6"
      ]
    },
    {
      "cell_type": "code",
      "metadata": {
        "id": "-LtwLDWqom6F",
        "colab_type": "code",
        "colab": {
          "base_uri": "https://localhost:8080/",
          "height": 218
        },
        "outputId": "54884a9b-259d-4a83-f616-be30220e595c"
      },
      "source": [
        "l = []\n",
        "\n",
        "def inp():\n",
        "  name = input('Name : ')\n",
        "  rolno = input(' Rol No : ')\n",
        "  return (name,rolno)  # returns tuples\n",
        "\n",
        "n = int(input('Number of Students : '))\n",
        "for x in range(n):\n",
        "  l.append(inp())\n",
        "\n",
        "print(f'Original : {l}')\n",
        "\n",
        "l.sort(key = lambda x:x[1])\n",
        "print(f'According to Rol No : Ascending :{l}')\n",
        "print(f'According to Rol No : Descending :{l[::-1]}')\n",
        "\n",
        "l.sort(key = lambda x:x[0])\n",
        "print(f'According to Name : Ascending :{l}')\n",
        "print(f'According to Name : Descending :{l[::-1]}')"
      ],
      "execution_count": 3,
      "outputs": [
        {
          "output_type": "stream",
          "text": [
            "Number of Students : 3\n",
            "Name : ram\n",
            " Rol No : 1\n",
            "Name : smitha\n",
            " Rol No : 23\n",
            "Name : sonu\n",
            " Rol No : 15\n",
            "Original : [('ram', '1'), ('smitha', '23'), ('sonu', '15')]\n",
            "According to Rol No : Ascending :[('ram', '1'), ('sonu', '15'), ('smitha', '23')]\n",
            "According to Rol No : Descending :[('smitha', '23'), ('sonu', '15'), ('ram', '1')]\n",
            "According to Name : Ascending :[('ram', '1'), ('smitha', '23'), ('sonu', '15')]\n",
            "According to Name : Descending :[('sonu', '15'), ('smitha', '23'), ('ram', '1')]\n"
          ],
          "name": "stdout"
        }
      ]
    }
  ]
}