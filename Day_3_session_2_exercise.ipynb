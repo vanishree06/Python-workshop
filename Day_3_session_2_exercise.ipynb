{
  "nbformat": 4,
  "nbformat_minor": 0,
  "metadata": {
    "colab": {
      "name": "Day 3 session 2  exercise",
      "provenance": [],
      "collapsed_sections": [],
      "authorship_tag": "ABX9TyPHOnjnkeSg7JVPcRDwC6yU",
      "include_colab_link": true
    },
    "kernelspec": {
      "name": "python3",
      "display_name": "Python 3"
    }
  },
  "cells": [
    {
      "cell_type": "markdown",
      "metadata": {
        "id": "view-in-github",
        "colab_type": "text"
      },
      "source": [
        "<a href=\"https://colab.research.google.com/github/vanishree06/Python-workshop/blob/master/Day_3_session_2_exercise.ipynb\" target=\"_parent\"><img src=\"https://colab.research.google.com/assets/colab-badge.svg\" alt=\"Open In Colab\"/></a>"
      ]
    },
    {
      "cell_type": "markdown",
      "metadata": {
        "id": "X-IGpBun1aaF",
        "colab_type": "text"
      },
      "source": [
        "#Print Multiplication Table of a number which got through keyboard."
      ]
    },
    {
      "cell_type": "code",
      "metadata": {
        "id": "RC0R6-NC00Al",
        "colab_type": "code",
        "colab": {
          "base_uri": "https://localhost:8080/",
          "height": 218
        },
        "outputId": "b133f82a-a7dc-40b3-c595-85d26c1b2b4a"
      },
      "source": [
        "num = int(input(\"Enter the number: \"))\n",
        "\n",
        "print(\"Multiplication Table of\", num)\n",
        "for i in range(1, 11):\n",
        "   print(num,\"X\",i,\"=\",num * i)"
      ],
      "execution_count": 1,
      "outputs": [
        {
          "output_type": "stream",
          "text": [
            "Enter the number: 13\n",
            "Multiplication Table of 13\n",
            "13 X 1 = 13\n",
            "13 X 2 = 26\n",
            "13 X 3 = 39\n",
            "13 X 4 = 52\n",
            "13 X 5 = 65\n",
            "13 X 6 = 78\n",
            "13 X 7 = 91\n",
            "13 X 8 = 104\n",
            "13 X 9 = 117\n",
            "13 X 10 = 130\n"
          ],
          "name": "stdout"
        }
      ]
    },
    {
      "cell_type": "markdown",
      "metadata": {
        "id": "l_trXM7i1tXK",
        "colab_type": "text"
      },
      "source": [
        "#find the Armstrong Numbers between 1 and 2000"
      ]
    },
    {
      "cell_type": "code",
      "metadata": {
        "id": "rwzIJxYS2O_C",
        "colab_type": "code",
        "colab": {
          "base_uri": "https://localhost:8080/",
          "height": 252
        },
        "outputId": "d28255f3-02e8-4944-e86f-2ced4f0456ca"
      },
      "source": [
        "lower = 1\n",
        "upper = 2000\n",
        "for num in range(lower, upper + 1):\n",
        "   order = len(str(num))\n",
        "   sum = 0\n",
        "   temp = num\n",
        "   while temp > 0:\n",
        "       digit = temp % 10\n",
        "       sum += digit ** order\n",
        "       temp //= 10\n",
        "   if num == sum:\n",
        "       print(num)"
      ],
      "execution_count": 3,
      "outputs": [
        {
          "output_type": "stream",
          "text": [
            "1\n",
            "2\n",
            "3\n",
            "4\n",
            "5\n",
            "6\n",
            "7\n",
            "8\n",
            "9\n",
            "153\n",
            "370\n",
            "371\n",
            "407\n",
            "1634\n"
          ],
          "name": "stdout"
        }
      ]
    },
    {
      "cell_type": "markdown",
      "metadata": {
        "id": "DfEIMiMo5FG0",
        "colab_type": "text"
      },
      "source": [
        "#Sort and print them as rollno wise and name wise both ascending and descending as well as alphabetical and dealphabetical orders"
      ]
    },
    {
      "cell_type": "code",
      "metadata": {
        "id": "VbXJWsks4en_",
        "colab_type": "code",
        "colab": {
          "base_uri": "https://localhost:8080/",
          "height": 252
        },
        "outputId": "6d2aca31-cf22-43dc-97b1-557fca49e84e"
      },
      "source": [
        "l=[]\n",
        "def inp():\n",
        "  name = input('Name : ')\n",
        "  rolno = input(' Rol No : ')\n",
        "  return (name,rolno)  # returns tuples\n",
        "\n",
        "n = int(input('Number of Students : '))\n",
        "for x in range(n):\n",
        "  l.append(inp())\n",
        "\n",
        "print(f'Original : {l}')\n",
        "\n",
        "l.sort(key = lambda x:x[1])\n",
        "print(f'According to Rol No : Ascending :{l}')\n",
        "print(f'According to Rol No : Descending :{l[::-1]}')\n",
        "\n",
        "l.sort(key = lambda x:x[0])\n",
        "print(f'According to Name : Ascending :{l}')\n",
        "print(f'According to Name : Descending :{l[::-1]}')"
      ],
      "execution_count": 7,
      "outputs": [
        {
          "output_type": "stream",
          "text": [
            "Number of Students : 4\n",
            "Name : Raju\n",
            " Rol No : 54\n",
            "Name : sita\n",
            " Rol No : 27\n",
            "Name : hitesh\n",
            " Rol No : 32\n",
            "Name : sachin\n",
            " Rol No : 21\n",
            "Original : [('Raju', '54'), ('sita', '27'), ('hitesh', '32'), ('sachin', '21')]\n",
            "According to Rol No : Ascending :[('sachin', '21'), ('sita', '27'), ('hitesh', '32'), ('Raju', '54')]\n",
            "According to Rol No : Descending :[('Raju', '54'), ('hitesh', '32'), ('sita', '27'), ('sachin', '21')]\n",
            "According to Name : Ascending :[('Raju', '54'), ('hitesh', '32'), ('sachin', '21'), ('sita', '27')]\n",
            "According to Name : Descending :[('sita', '27'), ('sachin', '21'), ('hitesh', '32'), ('Raju', '54')]\n"
          ],
          "name": "stdout"
        }
      ]
    },
    {
      "cell_type": "markdown",
      "metadata": {
        "id": "cKVM26g45eQo",
        "colab_type": "text"
      },
      "source": [
        "#Python Program to Detect if Two Strings are Anagrams"
      ]
    },
    {
      "cell_type": "code",
      "metadata": {
        "id": "896YEPjA6GhO",
        "colab_type": "code",
        "colab": {
          "base_uri": "https://localhost:8080/",
          "height": 34
        },
        "outputId": "1ec726ff-8e4c-4a13-9afa-84f18945d6df"
      },
      "source": [
        "def check(s1, s2): \n",
        "\tif(sorted(s1)== sorted(s2)): \n",
        "\t\tprint(\"The strings are anagrams.\") \n",
        "\telse: \n",
        "\t\tprint(\"The strings aren't anagrams.\")\t\t \n",
        "s1 =\"listen\"\n",
        "s2 =\"silent\"\n",
        "check(s1, s2) \n"
      ],
      "execution_count": 8,
      "outputs": [
        {
          "output_type": "stream",
          "text": [
            "The strings are anagrams.\n"
          ],
          "name": "stdout"
        }
      ]
    }
  ]
}